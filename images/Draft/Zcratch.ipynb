{
 "cells": [
  {
   "cell_type": "code",
   "execution_count": 2,
   "metadata": {},
   "outputs": [],
   "source": [
    "import wikipedia\n",
    "\n",
    "p = wikipedia.page(\"bicycle\", auto_suggest=False)"
   ]
  },
  {
   "cell_type": "code",
   "execution_count": 3,
   "metadata": {},
   "outputs": [
    {
     "data": {
      "text/plain": [
       "'https://upload.wikimedia.org/wikipedia/commons/e/e5/1886_Starley_%27Rover%27_Safety_Cycle_British_Motor_Museum_09-2016_%2829928044262%29.jpg'"
      ]
     },
     "execution_count": 3,
     "metadata": {},
     "output_type": "execute_result"
    }
   ],
   "source": [
    "p.images[0]"
   ]
  },
  {
   "cell_type": "code",
   "execution_count": 13,
   "metadata": {},
   "outputs": [
    {
     "ename": "UnidentifiedImageError",
     "evalue": "cannot identify image file <_io.BytesIO object at 0x0000025FB7D53F10>",
     "output_type": "error",
     "traceback": [
      "\u001b[1;31m---------------------------------------------------------------------------\u001b[0m",
      "\u001b[1;31mUnidentifiedImageError\u001b[0m                    Traceback (most recent call last)",
      "Cell \u001b[1;32mIn[13], line 6\u001b[0m\n\u001b[0;32m      2\u001b[0m \u001b[39mfrom\u001b[39;00m \u001b[39mPIL\u001b[39;00m \u001b[39mimport\u001b[39;00m Image\n\u001b[0;32m      4\u001b[0m img_data \u001b[39m=\u001b[39m requests\u001b[39m.\u001b[39mget(p\u001b[39m.\u001b[39mimages[\u001b[39m0\u001b[39m], stream\u001b[39m=\u001b[39m\u001b[39mTrue\u001b[39;00m)\u001b[39m.\u001b[39mraw\n\u001b[1;32m----> 6\u001b[0m img \u001b[39m=\u001b[39m Image\u001b[39m.\u001b[39;49mopen(requests\u001b[39m.\u001b[39;49mget(\u001b[39mr\u001b[39;49m\u001b[39m\"\u001b[39;49m\u001b[39mhttps://upload.wikimedia.org/wikipedia/commons/e/e5/1886_Starley_\u001b[39;49m\u001b[39m%\u001b[39;49m\u001b[39m27Rover\u001b[39;49m\u001b[39m%\u001b[39;49m\u001b[39m27_Safety_Cycle_British_Motor_Museum_09-2016_\u001b[39;49m\u001b[39m%2829928044262%\u001b[39;49;00m\u001b[39m29.jpg\u001b[39;49m\u001b[39m\"\u001b[39;49m, stream\u001b[39m=\u001b[39;49m\u001b[39mTrue\u001b[39;49;00m)\u001b[39m.\u001b[39;49mraw)\n\u001b[0;32m      7\u001b[0m img\u001b[39m.\u001b[39msave(\u001b[39m\"\u001b[39m\u001b[39mbike.png\u001b[39m\u001b[39m\"\u001b[39m)\n",
      "File \u001b[1;32md:\\000_PyProjects\\2-Udemy-OOP-Projects\\venv_OOPs\\lib\\site-packages\\PIL\\Image.py:3186\u001b[0m, in \u001b[0;36mopen\u001b[1;34m(fp, mode, formats)\u001b[0m\n\u001b[0;32m   3184\u001b[0m \u001b[39mfor\u001b[39;00m message \u001b[39min\u001b[39;00m accept_warnings:\n\u001b[0;32m   3185\u001b[0m     warnings\u001b[39m.\u001b[39mwarn(message)\n\u001b[1;32m-> 3186\u001b[0m \u001b[39mraise\u001b[39;00m UnidentifiedImageError(\n\u001b[0;32m   3187\u001b[0m     \u001b[39m\"\u001b[39m\u001b[39mcannot identify image file \u001b[39m\u001b[39m%r\u001b[39;00m\u001b[39m\"\u001b[39m \u001b[39m%\u001b[39m (filename \u001b[39mif\u001b[39;00m filename \u001b[39melse\u001b[39;00m fp)\n\u001b[0;32m   3188\u001b[0m )\n",
      "\u001b[1;31mUnidentifiedImageError\u001b[0m: cannot identify image file <_io.BytesIO object at 0x0000025FB7D53F10>"
     ]
    }
   ],
   "source": [
    "import requests\n",
    "from PIL import Image\n",
    "\n",
    "img_data = requests.get(p.images[0], stream=True).raw\n",
    "\n",
    "img = Image.open(requests.get(r\"https://upload.wikimedia.org/wikipedia/commons/e/e5/1886_Starley_%27Rover%27_Safety_Cycle_British_Motor_Museum_09-2016_%2829928044262%29.jpg\", stream=True).raw)\n",
    "img.save(\"bike.png\")"
   ]
  },
  {
   "cell_type": "markdown",
   "metadata": {},
   "source": []
  }
 ],
 "metadata": {
  "kernelspec": {
   "display_name": "venv_OOPs",
   "language": "python",
   "name": "python3"
  },
  "language_info": {
   "codemirror_mode": {
    "name": "ipython",
    "version": 3
   },
   "file_extension": ".py",
   "mimetype": "text/x-python",
   "name": "python",
   "nbconvert_exporter": "python",
   "pygments_lexer": "ipython3",
   "version": "3.10.2"
  },
  "orig_nbformat": 4,
  "vscode": {
   "interpreter": {
    "hash": "ad0b2e4452410780a39db398a32b8add63c9c3e246577bf91568e4bf577aa649"
   }
  }
 },
 "nbformat": 4,
 "nbformat_minor": 2
}
